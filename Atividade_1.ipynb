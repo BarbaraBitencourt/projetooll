{
  "nbformat": 4,
  "nbformat_minor": 0,
  "metadata": {
    "colab": {
      "provenance": [],
      "authorship_tag": "ABX9TyOMooewdnmRtbF3p7+AdYlm",
      "include_colab_link": true
    },
    "kernelspec": {
      "name": "python3",
      "display_name": "Python 3"
    },
    "language_info": {
      "name": "python"
    }
  },
  "cells": [
    {
      "cell_type": "markdown",
      "metadata": {
        "id": "view-in-github",
        "colab_type": "text"
      },
      "source": [
        "<a href=\"https://colab.research.google.com/github/BarbaraBitencourt/projetooll/blob/main/Atividade_1.ipynb\" target=\"_parent\"><img src=\"https://colab.research.google.com/assets/colab-badge.svg\" alt=\"Open In Colab\"/></a>"
      ]
    },
    {
      "cell_type": "markdown",
      "source": [
        "## Aluna: Bárbara Bitencourt\n",
        "\n",
        "# Atividade 1 - Jobel - Linguagem Python\n",
        "\n",
        "### 1. Dado o tamanho da base e da altura de um retângulo, calcular a sua área e o seu perímetro.\n"
      ],
      "metadata": {
        "id": "C4c6HfLvoY2Y"
      }
    },
    {
      "cell_type": "code",
      "execution_count": 4,
      "metadata": {
        "colab": {
          "base_uri": "https://localhost:8080/"
        },
        "id": "fD3ZAjc5ntgL",
        "outputId": "55db1439-1900-43ae-c114-66dec14fe760"
      },
      "outputs": [
        {
          "output_type": "stream",
          "name": "stdout",
          "text": [
            "Digite a base do retângulo: 12.1\n",
            "Digite a altura do retângulo: 6\n",
            "Área:  72.6\n",
            "Perimetro:  36.2\n"
          ]
        }
      ],
      "source": [
        "base =  float(input(\"Digite a base do retângulo: \"))\n",
        "altura = float(input(\"Digite a altura do retângulo: \"))\n",
        "\n",
        "area = base * altura\n",
        "perimetro =  2 * (base + altura)\n",
        "\n",
        "print(\"Área: \" , area)\n",
        "print(\"Perimetro: \", perimetro)\n",
        "\n"
      ]
    },
    {
      "cell_type": "markdown",
      "source": [
        "### 2. Dado o tamanho do lado de um quadrado, calcular a sua área e o seu perímetro."
      ],
      "metadata": {
        "id": "nhdU-RoFrRyK"
      }
    },
    {
      "cell_type": "code",
      "source": [
        "lado_quadrado = float(input(\"Digite o tamanho do lado do quadrado: \"))\n",
        "\n",
        "area_quadrado = lado_quadrado * lado_quadrado\n",
        "perimetro_quadrado = 4 * lado_quadrado\n",
        "\n",
        "print(\"Área do quadrado: \", area_quadrado)\n",
        "print(\"Perimetro do quadrado: \", perimetro_quadrado)\n"
      ],
      "metadata": {
        "colab": {
          "base_uri": "https://localhost:8080/"
        },
        "id": "tNwwS0q4rTj9",
        "outputId": "b6a8ca23-dfb4-4bfb-fd98-fceae0cc1191"
      },
      "execution_count": 8,
      "outputs": [
        {
          "output_type": "stream",
          "name": "stdout",
          "text": [
            "Digite o tamanho do lado do quadrado: 15\n",
            "Área do quadrado:  225.0\n",
            "Perimetro do quadrado:  60.0\n"
          ]
        }
      ]
    },
    {
      "cell_type": "markdown",
      "source": [
        "### 3. Dado os três lados de um triângulo determinar o perímetro do mesmo."
      ],
      "metadata": {
        "id": "t6WnOdm7wH-f"
      }
    },
    {
      "cell_type": "code",
      "source": [
        "lado1_triangulo = float(input(\"Digite o primeiro lado do triângulo: \"))\n",
        "lado2_triangulo = float(input(\"Digite o segundo lado do triângulo: \"))\n",
        "lado3_triangulo = float(input('Digite o terceiro lado do triângulo: '))\n",
        "\n",
        "perimetro_triangulo = lado1_triangulo + lado2_triangulo + lado3_triangulo\n",
        "\n",
        "print(\"O perimetro do triângulo é : \", perimetro_triangulo)"
      ],
      "metadata": {
        "colab": {
          "base_uri": "https://localhost:8080/"
        },
        "id": "bz7nI-T1wHi0",
        "outputId": "d23440cd-4c34-4cb3-c3be-97b382332cf5"
      },
      "execution_count": 9,
      "outputs": [
        {
          "output_type": "stream",
          "name": "stdout",
          "text": [
            "Digite o primeiro lado do triângulo: 25.4\n",
            "Digite o segundo lado do triângulo: 25\n",
            "Digite o terceiro lado do triângulo: 26\n",
            "O perimetro do triângulo é :  76.4\n"
          ]
        }
      ]
    },
    {
      "cell_type": "markdown",
      "source": [
        "### 4. Ler um número inteiro e exibir o seu sucessor."
      ],
      "metadata": {
        "id": "Cj1UgpW3xBec"
      }
    },
    {
      "cell_type": "code",
      "source": [
        "numero = int(input(\"Digite um número inteiro: \"))\n",
        "sucessor = numero + 1\n",
        "\n",
        "print(\"O sucessor de\", numero , \"é\", sucessor)"
      ],
      "metadata": {
        "colab": {
          "base_uri": "https://localhost:8080/"
        },
        "id": "2iitHC3HsEq3",
        "outputId": "9898b74c-50c2-49ab-b7b2-c818bc2192f0"
      },
      "execution_count": 14,
      "outputs": [
        {
          "output_type": "stream",
          "name": "stdout",
          "text": [
            "Digite um número inteiro: 6\n",
            "O sucessor de 6 é 7\n"
          ]
        }
      ]
    },
    {
      "cell_type": "code",
      "source": [],
      "metadata": {
        "id": "YFtjcJorzhUM"
      },
      "execution_count": 10,
      "outputs": []
    },
    {
      "cell_type": "markdown",
      "source": [
        "### 5. Ler dois números inteiros e exibir o quociente e o resto da divisão inteira entre eles."
      ],
      "metadata": {
        "id": "iyuUNAWtz4aM"
      }
    },
    {
      "cell_type": "code",
      "source": [
        "numero1 = int(input(\"Digite um número inteiro: \"))\n",
        "numero2 = int(input(\"Digite um número inteiro :\"))\n",
        "\n",
        "quociente = numero1 // numero2\n",
        "resto_divisao = numero1 % numero2\n",
        "\n",
        "print(\" O quociente da divisão de \", numero1,\"por\", numero2, \"é\" , quociente)\n",
        "print(\" O resto da divisão do mesmo números é \", resto_divisao)\n"
      ],
      "metadata": {
        "colab": {
          "base_uri": "https://localhost:8080/"
        },
        "id": "0I8FShD00AdU",
        "outputId": "53702867-2590-4c63-f04c-4b66c7563284"
      },
      "execution_count": 18,
      "outputs": [
        {
          "output_type": "stream",
          "name": "stdout",
          "text": [
            "Digite um número inteiro: 5\n",
            "Digite um número inteiro :4\n",
            " O quociente da divisão de  5 por 4 é 1\n",
            " O resto da divisão do mesmo números é  1\n"
          ]
        }
      ]
    },
    {
      "cell_type": "markdown",
      "source": [
        "### 6. Dado que a fórmula para conversão de Fahrenheit para Celsius é C = 5/9 (F – 32), entrar com um valor de temperatura em Fahrenheit e exibi-lo em Celsius."
      ],
      "metadata": {
        "id": "EvQXWBzb2_21"
      }
    },
    {
      "cell_type": "code",
      "source": [
        "Fahrenheit = float(input(\"Digite a temperatura em Fahrenheit:\"))\n",
        "\n",
        "conversao_para_celsius = round(5/9 * (Fahrenheit - 32), 2)\n",
        "\n",
        "print(\"A conversão para Celsiues é \", conversao_para_celsius)"
      ],
      "metadata": {
        "colab": {
          "base_uri": "https://localhost:8080/"
        },
        "id": "bp-tFwJb3Del",
        "outputId": "82de7110-b3d0-417d-ecb3-0050c519bf52"
      },
      "execution_count": 21,
      "outputs": [
        {
          "output_type": "stream",
          "name": "stdout",
          "text": [
            "Digite a temperatura em Fahrenheit:65\n",
            "A conversão para Celsiues é  18.33\n"
          ]
        }
      ]
    },
    {
      "cell_type": "markdown",
      "source": [
        "### 7. Faça um algoritmo para calcular a nota final (nf) de um aluno, obtida pela média aritmética de 2 provas (p1 e p2)."
      ],
      "metadata": {
        "id": "ywIgr5Po419c"
      }
    },
    {
      "cell_type": "code",
      "source": [
        "p1 = float(input(\"Digite a nota do aluno na p1: \"))\n",
        "p2 = float(input(\"Digite a nota do aluno na p2: \"))\n",
        "\n",
        "nf = (p1 + p2) / 2\n",
        "\n",
        "print(\"A nota final do aluno é \", nf)"
      ],
      "metadata": {
        "colab": {
          "base_uri": "https://localhost:8080/"
        },
        "id": "SMPlb23A3eoD",
        "outputId": "0e54cabb-c900-4553-8e99-8bca75dbc718"
      },
      "execution_count": 22,
      "outputs": [
        {
          "output_type": "stream",
          "name": "stdout",
          "text": [
            "Digite a nota do aluno na p1: 6\n",
            "Digite a nota do aluno na p2: 8\n",
            "A nota final do aluno é  7.0\n"
          ]
        }
      ]
    },
    {
      "cell_type": "markdown",
      "source": [
        "### 8. Faça um algoritmo que transforme uma velocidade em m/s para km/h. Para tal, multiplique o valor em m/s por 3,6."
      ],
      "metadata": {
        "id": "C8qB_zCZ5g9C"
      }
    },
    {
      "cell_type": "code",
      "source": [
        "velocidade_metros = float(input(\"Digite a velocidade em m/s3: \"))\n",
        "\n",
        "velocidade_km = round(velocidade_metros * 3.6, 2)\n",
        "\n",
        "print(\"A velocidade de\", velocidade_metros, \"m/s para km/h é\", velocidade_km)"
      ],
      "metadata": {
        "colab": {
          "base_uri": "https://localhost:8080/"
        },
        "id": "E91N-eBW5ii_",
        "outputId": "fa6961cc-4660-4590-b732-681b22677f32"
      },
      "execution_count": 33,
      "outputs": [
        {
          "output_type": "stream",
          "name": "stdout",
          "text": [
            "Digite a velocidade em m/s3: 30\n",
            "A velocidade de 30.0 m/s para km/h é 108.0\n"
          ]
        }
      ]
    }
  ]
}